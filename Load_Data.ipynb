{
 "cells": [
  {
   "cell_type": "code",
   "execution_count": 1,
   "metadata": {},
   "outputs": [],
   "source": [
    "import os\n",
    "from pathlib import Path\n",
    "from sklearn.utils import shuffle\n",
    "\n",
    "def load_Reviews(filepath):\n",
    "  neg= [Path(filepath+'neg/'+ filename).read_text(encoding='utf-8')\n",
    "        for filename in os.listdir(filepath+'neg/')]\n",
    "  pos= [Path(filepath+'pos/'+ filename).read_text(encoding='utf-8')\n",
    "        for filename in os.listdir(filepath+'pos/')]\n",
    "  \n",
    "  sentiment= ['negative']* len(neg) + ['positive']* len(pos)\n",
    "  reviews=neg+pos\n",
    "\n",
    "  return shuffle(reviews, sentiment) #shuffle order\n",
    "\n",
    "train_reviews, train_sentiment=load_Reviews('aclImdb/train/')\n",
    "test_reviews, test_sentiment=load_Reviews('aclImdb/test/')\n"
   ]
  },
  {
   "cell_type": "code",
   "execution_count": 24,
   "metadata": {},
   "outputs": [
    {
     "data": {
      "text/plain": [
       "'Earlier today I got into an argument on why so many people complain about modern films in which I encountered a curious statement: \"the character development in newer movies just isn\\'t nearly as good or interesting as it used to be.\" Depending on the film(s) in question, this can be attributed to a number of things, sometimes generic special effects and plot-driven Hollywood garbage like War Of The Worlds, but in the case of over-the-top, uninteresting attempts at social commentary and a desperate struggle to put \"art\" back into cinema, it\\'s movies like Dog Days that are to blame.<br /><br />I normally have a very high tolerance for movies, no matter how dull or pointless I find them (ranging from good, long ones like Andrei Rublev and Dogville, to ones I\\'ve considered painful to sit through a la Alpha Dog and Wild Wild West). I shut this movie off 45 minutes in, which is 30 minutes more than I actually should have. I wasn\\'t interested in any of the characters whatsoever and found nothing substantial beyond a thin veil of unfocused pessimism. In an attempt to say something about the dregs of society, this film too easily falls into being self-indulgent, trite, and exploitative in a very sincere sense. Granted, I\\'ve seen many disturbing movies on the same subject, but there are so many better films out there about depressing, pathetic people (Happiness, Gummo, Kids, Salo, Storytelling, Irreversible) that actually contain characters of great emotional depth and personality. Dog Days had none more than an eighth grader\\'s distaste for society, choosing to ignore any true intelligence about the way people actually are, and instead choosing to be a dull, awful, and hopelessly unoriginal attempt at a work of \"art.\" This isn\\'t a characterization of the unknown or a clever observation into the dregs of society, it\\'s just boring and nothing worth caring about.'"
      ]
     },
     "execution_count": 24,
     "metadata": {},
     "output_type": "execute_result"
    }
   ],
   "source": [
    "train_reviews[6]"
   ]
  },
  {
   "cell_type": "code",
   "execution_count": 4,
   "metadata": {},
   "outputs": [],
   "source": [
    "#to download raw training and test review sets, since this process takes a very long time\n",
    "import json\n",
    "raw_reviews={'train': (train_reviews, train_sentiment), 'test': (test_reviews, test_sentiment)}\n",
    "with open('raw_reviews.json', 'w') as outfile:\n",
    "    json.dump(raw_reviews, outfile)"
   ]
  },
  {
   "cell_type": "code",
   "execution_count": 11,
   "metadata": {},
   "outputs": [
    {
     "data": {
      "text/plain": [
       "\"I enjoyed this film. It was a joy to see a version so close to the vision of Peter O'Donnell.<br /><br />A number of people have disliked the film, but it has to be seen in context of the origin story that it is. The film uses flashback to show the young Modesty and the events that shaped her into the woman that she became. Before the Network. Before Willie Garvin.<br /><br />The pace is a trifle slow, and for my taste not enough tension is developed in the present day scenes. However this is acceptable just to get such a faithful version.<br /><br />If you like Modesty Blaise, you will enjoy it even with its faults, if you just want an action flick with car chases - forget it.<br /><br />It has the feeling of being the first of a franchise, but as I have never seen it promoted anywhere, I suspect there will be no more to follow. Sadly.\""
      ]
     },
     "execution_count": 11,
     "metadata": {},
     "output_type": "execute_result"
    }
   ],
   "source": [
    "train_reviews[9]"
   ]
  },
  {
   "cell_type": "code",
   "execution_count": 22,
   "metadata": {},
   "outputs": [],
   "source": [
    "import text_normalizer as tn\n",
    "\n",
    "norm_train_reviews= tn.normalize_corpus(train_reviews, stopword_removal=False, text_lemmatization=False)\n",
    "norm_test_reviews= tn.normalize_corpus(test_reviews, stopword_removal=False, text_lemmatization=False)\n",
    "\n",
    "# normalize_corpus(corpus, html_stripping=True, contraction_expansion=True,\n",
    "#                      accented_char_removal=True, text_lower_case=True, \n",
    "#                      text_stemming=False, text_lemmatization=True, \n",
    "#                      special_char_removal=True, remove_digits=True,\n",
    "#                      stopword_removal=True, stopwords=stopword_list)"
   ]
  },
  {
   "cell_type": "code",
   "execution_count": null,
   "metadata": {},
   "outputs": [],
   "source": [
    "#to download normalized training and test review sets, since this process takes a very long time\n",
    "import json\n",
    "norm_reviews={'train': (norm_train_reviews, train_sentiment), 'test': (norm_test_reviews, test_sentiment)}\n",
    "with open('norm_reviews2.json', 'w') as outfile:\n",
    "    json.dump(norm_reviews, outfile)"
   ]
  },
  {
   "cell_type": "code",
   "execution_count": 25,
   "metadata": {},
   "outputs": [
    {
     "data": {
      "text/plain": [
       "'i enjoyed this film it was a joy to see a version so close to the vision of peter ofdonnell a number of people have disliked the film but it has to be seen in context of the origin story that it is the film uses flashback to show the young modesty and the events that shaped her into the woman that she became before the network before willie garvin the pace is a trifle slow and for my taste not enough tension is developed in the present day scenes however this is acceptable just to get such a faithful version if you like modesty blaise you will enjoy it even with its faults if you just want an action flick with car chases forget it it has the feeling of being the first of a franchise but as i have never seen it promoted anywhere i suspect there will be no more to follow sadly'"
      ]
     },
     "execution_count": 25,
     "metadata": {},
     "output_type": "execute_result"
    }
   ],
   "source": [
    "norm_train_reviews[9]"
   ]
  },
  {
   "cell_type": "code",
   "execution_count": 4,
   "metadata": {},
   "outputs": [],
   "source": [
    "import pandas as pd\n",
    "import numpy as np\n",
    "import text_normalizer as tn\n",
    "import model_evaluation_utils as meu\n",
    "import nltk\n",
    "\n",
    "np.set_printoptions(precision=2, linewidth=80)"
   ]
  },
  {
   "cell_type": "code",
   "execution_count": 6,
   "metadata": {},
   "outputs": [],
   "source": [
    "#normalize datasets\n",
    "stop_words= nltk.corpus.stopwords.words('english')\n",
    "stop_words.remove('no')\n",
    "stop_words.remove('but')\n",
    "stop_words.remove('not')\n",
    "\n",
    "norm_train_reviews= tn.normalize_corpus(train_reviews, stopwords= stop_words)\n",
    "norm_test_reviews= tn.normalize_corpus(test_reviews, stopwords=stop_words)\n",
    "\n",
    "# normalize_corpus(corpus, html_stripping=True, contraction_expansion=True,\n",
    "#                      accented_char_removal=True, text_lower_case=True, \n",
    "#                      text_stemming=False, text_lemmatization=True, \n",
    "#                      special_char_removal=True, remove_digits=True,\n",
    "#                      stopword_removal=True, stopwords=stopword_list)"
   ]
  },
  {
   "cell_type": "code",
   "execution_count": 7,
   "metadata": {},
   "outputs": [
    {
     "data": {
      "text/plain": [
       "25000"
      ]
     },
     "execution_count": 7,
     "metadata": {},
     "output_type": "execute_result"
    }
   ],
   "source": [
    "len(norm_test_reviews)"
   ]
  },
  {
   "cell_type": "code",
   "execution_count": 19,
   "metadata": {},
   "outputs": [],
   "source": [
    "#to download normalized training and test review sets, since this process takes a very long time\n",
    "import json\n",
    "norm_reviews={'train': (norm_train_reviews, train_sentiment), 'test': (norm_test_reviews, test_sentiment)}\n",
    "with open('norm_reviews.json', 'w') as outfile:\n",
    "    json.dump(norm_reviews, outfile)"
   ]
  },
  {
   "cell_type": "code",
   "execution_count": 14,
   "metadata": {},
   "outputs": [
    {
     "data": {
      "text/plain": [
       "'enjoy film joy see version close vision peter ofdonnell number people dislike film but see context origin story film use flashback show young modesty event shape woman become network willie garvin pace trifle slow taste not enough tension develop present day scene however acceptable get faithful version like modesty blaise enjoy even fault want action flick car chase forget feeling first franchise but never see promote anywhere suspect no follow sadly'"
      ]
     },
     "execution_count": 14,
     "metadata": {},
     "output_type": "execute_result"
    }
   ],
   "source": [
    "norm_train_reviews[18224]"
   ]
  },
  {
   "cell_type": "code",
   "execution_count": 10,
   "metadata": {},
   "outputs": [],
   "source": [
    "#load normalized and training test review sets\n",
    "import json\n",
    "with open ('norm_reviews.json') as f:\n",
    "    norm_reviews=json.load(f)\n",
    "    \n",
    "norm_train_reviews, train_sentiment=norm_reviews['train']\n",
    "norm_test_reviews, test_sentiment=norm_reviews['test']"
   ]
  },
  {
   "cell_type": "code",
   "execution_count": null,
   "metadata": {},
   "outputs": [],
   "source": []
  }
 ],
 "metadata": {
  "kernelspec": {
   "display_name": "Python 3",
   "language": "python",
   "name": "python3"
  },
  "language_info": {
   "codemirror_mode": {
    "name": "ipython",
    "version": 3
   },
   "file_extension": ".py",
   "mimetype": "text/x-python",
   "name": "python",
   "nbconvert_exporter": "python",
   "pygments_lexer": "ipython3",
   "version": "3.8.3"
  }
 },
 "nbformat": 4,
 "nbformat_minor": 4
}
